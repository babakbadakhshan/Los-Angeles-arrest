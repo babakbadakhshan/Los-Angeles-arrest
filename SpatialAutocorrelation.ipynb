{
 "cells": [
  {
   "cell_type": "code",
   "execution_count": 34,
   "id": "46a04e0b-5923-4854-8bf9-8f7aa0582507",
   "metadata": {},
   "outputs": [],
   "source": [
    "#import libraries\n",
    "import warnings\n",
    "warnings.filterwarnings('ignore') \n",
    "import pandas as pd\n",
    "from sodapy import socrata\n",
    "import geopandas as gpd\n",
    "import contextily as ctx\n",
    "import esda \n",
    "from esda.moran import Moran, Moran_Local\n",
    "import splot\n",
    "from splot.esda import moran_scatterplot, plot_moran, lisa_cluster, plot_moran_simulation\n",
    "import libpysal as lps\n",
    "import matplotlib.pyplot as plt \n",
    "import plotly.express as px\n"
   ]
  },
  {
   "cell_type": "code",
   "execution_count": 57,
   "id": "50adb369-8d83-4fd4-a31e-d28a70046f3b",
   "metadata": {},
   "outputs": [],
   "source": [
    "#import block grops data\n",
    "gdf = gpd.read_file('C:/Users/ASUS/Downloads/acs2018_5yr_B01003_15000US060372711003.geojson')\n"
   ]
  },
  {
   "cell_type": "code",
   "execution_count": 75,
   "id": "ed90f826-5c13-4900-a44c-9eb285c9b2b8",
   "metadata": {},
   "outputs": [
    {
     "data": {
      "text/html": [
       "<div>\n",
       "<style scoped>\n",
       "    .dataframe tbody tr th:only-of-type {\n",
       "        vertical-align: middle;\n",
       "    }\n",
       "\n",
       "    .dataframe tbody tr th {\n",
       "        vertical-align: top;\n",
       "    }\n",
       "\n",
       "    .dataframe thead th {\n",
       "        text-align: right;\n",
       "    }\n",
       "</style>\n",
       "<table border=\"1\" class=\"dataframe\">\n",
       "  <thead>\n",
       "    <tr style=\"text-align: right;\">\n",
       "      <th></th>\n",
       "      <th>geoid</th>\n",
       "      <th>name</th>\n",
       "      <th>B01003001</th>\n",
       "      <th>B01003001, Error</th>\n",
       "      <th>geometry</th>\n",
       "    </tr>\n",
       "  </thead>\n",
       "  <tbody>\n",
       "    <tr>\n",
       "      <th>0</th>\n",
       "      <td>15000US060371011101</td>\n",
       "      <td>Block Group 1, Los Angeles, CA</td>\n",
       "      <td>1806.0</td>\n",
       "      <td>332.0</td>\n",
       "      <td>MULTIPOLYGON (((-118.29133 34.26008, -118.2913...</td>\n",
       "    </tr>\n",
       "    <tr>\n",
       "      <th>1</th>\n",
       "      <td>15000US060371011102</td>\n",
       "      <td>Block Group 2, Los Angeles, CA</td>\n",
       "      <td>1529.0</td>\n",
       "      <td>375.0</td>\n",
       "      <td>MULTIPOLYGON (((-118.30229 34.25870, -118.3009...</td>\n",
       "    </tr>\n",
       "    <tr>\n",
       "      <th>2</th>\n",
       "      <td>15000US060371011103</td>\n",
       "      <td>Block Group 3, Los Angeles, CA</td>\n",
       "      <td>979.0</td>\n",
       "      <td>250.0</td>\n",
       "      <td>MULTIPOLYGON (((-118.30080 34.26327, -118.2979...</td>\n",
       "    </tr>\n",
       "    <tr>\n",
       "      <th>3</th>\n",
       "      <td>15000US060371011221</td>\n",
       "      <td>Block Group 1, Los Angeles, CA</td>\n",
       "      <td>2093.0</td>\n",
       "      <td>410.0</td>\n",
       "      <td>MULTIPOLYGON (((-118.30334 34.27371, -118.3033...</td>\n",
       "    </tr>\n",
       "    <tr>\n",
       "      <th>4</th>\n",
       "      <td>15000US060371011222</td>\n",
       "      <td>Block Group 2, Los Angeles, CA</td>\n",
       "      <td>1146.0</td>\n",
       "      <td>281.0</td>\n",
       "      <td>MULTIPOLYGON (((-118.29075 34.26906, -118.2906...</td>\n",
       "    </tr>\n",
       "  </tbody>\n",
       "</table>\n",
       "</div>"
      ],
      "text/plain": [
       "                 geoid                            name  B01003001  \\\n",
       "0  15000US060371011101  Block Group 1, Los Angeles, CA     1806.0   \n",
       "1  15000US060371011102  Block Group 2, Los Angeles, CA     1529.0   \n",
       "2  15000US060371011103  Block Group 3, Los Angeles, CA      979.0   \n",
       "3  15000US060371011221  Block Group 1, Los Angeles, CA     2093.0   \n",
       "4  15000US060371011222  Block Group 2, Los Angeles, CA     1146.0   \n",
       "\n",
       "   B01003001, Error                                           geometry  \n",
       "0             332.0  MULTIPOLYGON (((-118.29133 34.26008, -118.2913...  \n",
       "1             375.0  MULTIPOLYGON (((-118.30229 34.25870, -118.3009...  \n",
       "2             250.0  MULTIPOLYGON (((-118.30080 34.26327, -118.2979...  \n",
       "3             410.0  MULTIPOLYGON (((-118.30334 34.27371, -118.3033...  \n",
       "4             281.0  MULTIPOLYGON (((-118.29075 34.26906, -118.2906...  "
      ]
     },
     "execution_count": 75,
     "metadata": {},
     "output_type": "execute_result"
    }
   ],
   "source": [
    "gdf.head()"
   ]
  },
  {
   "cell_type": "code",
   "execution_count": 85,
   "id": "9719ae3a-5627-449b-8cc1-4d0409f0e5c1",
   "metadata": {},
   "outputs": [
    {
     "data": {
      "text/plain": [
       "(2516, 5)"
      ]
     },
     "execution_count": 85,
     "metadata": {},
     "output_type": "execute_result"
    }
   ],
   "source": [
    "gdf.shape"
   ]
  },
  {
   "cell_type": "code",
   "execution_count": 99,
   "id": "6f145bd3-60cf-4dad-8076-899a4c10c621",
   "metadata": {},
   "outputs": [],
   "source": [
    "#column selection & renaming\n",
    "gdf = gdf[['geoid', 'B01003001', 'geometry']]\n",
    "gdf.columns = ['FIPS', 'TotalPop', 'geometry']"
   ]
  },
  {
   "cell_type": "code",
   "execution_count": 101,
   "id": "e642d5b0-271c-4d41-b60c-abafd4bddbe8",
   "metadata": {},
   "outputs": [
    {
     "data": {
      "text/html": [
       "<div>\n",
       "<style scoped>\n",
       "    .dataframe tbody tr th:only-of-type {\n",
       "        vertical-align: middle;\n",
       "    }\n",
       "\n",
       "    .dataframe tbody tr th {\n",
       "        vertical-align: top;\n",
       "    }\n",
       "\n",
       "    .dataframe thead th {\n",
       "        text-align: right;\n",
       "    }\n",
       "</style>\n",
       "<table border=\"1\" class=\"dataframe\">\n",
       "  <thead>\n",
       "    <tr style=\"text-align: right;\">\n",
       "      <th></th>\n",
       "      <th>FIPS</th>\n",
       "      <th>TotalPop</th>\n",
       "      <th>geometry</th>\n",
       "    </tr>\n",
       "  </thead>\n",
       "  <tbody>\n",
       "    <tr>\n",
       "      <th>2511</th>\n",
       "      <td>15000US060379800261</td>\n",
       "      <td>37.0</td>\n",
       "      <td>MULTIPOLYGON (((-118.35173 34.28034, -118.3517...</td>\n",
       "    </tr>\n",
       "    <tr>\n",
       "      <th>2512</th>\n",
       "      <td>15000US060379800281</td>\n",
       "      <td>0.0</td>\n",
       "      <td>MULTIPOLYGON (((-118.45246 33.94315, -118.4464...</td>\n",
       "    </tr>\n",
       "    <tr>\n",
       "      <th>2513</th>\n",
       "      <td>15000US060379800311</td>\n",
       "      <td>1113.0</td>\n",
       "      <td>MULTIPOLYGON (((-118.29105 33.75378, -118.2905...</td>\n",
       "    </tr>\n",
       "    <tr>\n",
       "      <th>2514</th>\n",
       "      <td>15000US060379902000</td>\n",
       "      <td>0.0</td>\n",
       "      <td>MULTIPOLYGON (((-118.63598 34.03255, -118.6325...</td>\n",
       "    </tr>\n",
       "    <tr>\n",
       "      <th>2515</th>\n",
       "      <td>16000US0644000</td>\n",
       "      <td>3959657.0</td>\n",
       "      <td>MULTIPOLYGON (((-118.66818 34.18987, -118.6681...</td>\n",
       "    </tr>\n",
       "  </tbody>\n",
       "</table>\n",
       "</div>"
      ],
      "text/plain": [
       "                     FIPS   TotalPop  \\\n",
       "2511  15000US060379800261       37.0   \n",
       "2512  15000US060379800281        0.0   \n",
       "2513  15000US060379800311     1113.0   \n",
       "2514  15000US060379902000        0.0   \n",
       "2515       16000US0644000  3959657.0   \n",
       "\n",
       "                                               geometry  \n",
       "2511  MULTIPOLYGON (((-118.35173 34.28034, -118.3517...  \n",
       "2512  MULTIPOLYGON (((-118.45246 33.94315, -118.4464...  \n",
       "2513  MULTIPOLYGON (((-118.29105 33.75378, -118.2905...  \n",
       "2514  MULTIPOLYGON (((-118.63598 34.03255, -118.6325...  \n",
       "2515  MULTIPOLYGON (((-118.66818 34.18987, -118.6681...  "
      ]
     },
     "execution_count": 101,
     "metadata": {},
     "output_type": "execute_result"
    }
   ],
   "source": [
    "gdf.tail()"
   ]
  }
 ],
 "metadata": {
  "kernelspec": {
   "display_name": "Python 3 (ipykernel)",
   "language": "python",
   "name": "python3"
  },
  "language_info": {
   "codemirror_mode": {
    "name": "ipython",
    "version": 3
   },
   "file_extension": ".py",
   "mimetype": "text/x-python",
   "name": "python",
   "nbconvert_exporter": "python",
   "pygments_lexer": "ipython3",
   "version": "3.12.4"
  }
 },
 "nbformat": 4,
 "nbformat_minor": 5
}
